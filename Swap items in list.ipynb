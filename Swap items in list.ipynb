{
 "cells": [
  {
   "cell_type": "code",
   "execution_count": 1,
   "id": "b162ffc5",
   "metadata": {},
   "outputs": [
    {
     "name": "stdout",
     "output_type": "stream",
     "text": [
      "[1, 2, 5, 4, 3]\n"
     ]
    }
   ],
   "source": [
    "def swaplistposition(List,pos1,pos2):\n",
    "    List[pos1],List[pos2]=List[pos2],List[pos1]\n",
    "    return(List)\n",
    "List=[1,2,3,4,5]\n",
    "print(swaplistposition(List,2,4))"
   ]
  },
  {
   "cell_type": "code",
   "execution_count": null,
   "id": "edde356c",
   "metadata": {},
   "outputs": [],
   "source": []
  }
 ],
 "metadata": {
  "kernelspec": {
   "display_name": "Python 3 (ipykernel)",
   "language": "python",
   "name": "python3"
  },
  "language_info": {
   "codemirror_mode": {
    "name": "ipython",
    "version": 3
   },
   "file_extension": ".py",
   "mimetype": "text/x-python",
   "name": "python",
   "nbconvert_exporter": "python",
   "pygments_lexer": "ipython3",
   "version": "3.9.12"
  }
 },
 "nbformat": 4,
 "nbformat_minor": 5
}
