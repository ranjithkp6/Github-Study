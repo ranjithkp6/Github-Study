{
 "cells": [
  {
   "cell_type": "code",
   "execution_count": 2,
   "id": "3451f254",
   "metadata": {},
   "outputs": [
    {
     "name": "stdout",
     "output_type": "stream",
     "text": [
      "7\n"
     ]
    }
   ],
   "source": [
    "def Length(List):\n",
    "    l=0\n",
    "    for i in List:\n",
    "        l+=1\n",
    "    return(l)\n",
    "List=[1,2,3,4,5,6,7]\n",
    "print(Length(List))"
   ]
  },
  {
   "cell_type": "code",
   "execution_count": null,
   "id": "6c1f8ecb",
   "metadata": {},
   "outputs": [],
   "source": []
  }
 ],
 "metadata": {
  "kernelspec": {
   "display_name": "Python 3 (ipykernel)",
   "language": "python",
   "name": "python3"
  },
  "language_info": {
   "codemirror_mode": {
    "name": "ipython",
    "version": 3
   },
   "file_extension": ".py",
   "mimetype": "text/x-python",
   "name": "python",
   "nbconvert_exporter": "python",
   "pygments_lexer": "ipython3",
   "version": "3.9.12"
  }
 },
 "nbformat": 4,
 "nbformat_minor": 5
}
