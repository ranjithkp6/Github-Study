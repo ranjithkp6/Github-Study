{
 "cells": [
  {
   "cell_type": "code",
   "execution_count": 5,
   "id": "a978fc67",
   "metadata": {},
   "outputs": [
    {
     "name": "stdout",
     "output_type": "stream",
     "text": [
      "Enter stringongc\n",
      "cgno\n"
     ]
    }
   ],
   "source": [
    "List=input(\"Enter string\")\n",
    "def reverse(List):\n",
    "    return(List[::-1])\n",
    "\n",
    "print(reverse(List))"
   ]
  },
  {
   "cell_type": "code",
   "execution_count": null,
   "id": "61da0a7e",
   "metadata": {},
   "outputs": [],
   "source": []
  }
 ],
 "metadata": {
  "kernelspec": {
   "display_name": "Python 3 (ipykernel)",
   "language": "python",
   "name": "python3"
  },
  "language_info": {
   "codemirror_mode": {
    "name": "ipython",
    "version": 3
   },
   "file_extension": ".py",
   "mimetype": "text/x-python",
   "name": "python",
   "nbconvert_exporter": "python",
   "pygments_lexer": "ipython3",
   "version": "3.9.12"
  }
 },
 "nbformat": 4,
 "nbformat_minor": 5
}
