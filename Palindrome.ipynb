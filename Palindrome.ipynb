{
 "cells": [
  {
   "cell_type": "code",
   "execution_count": 10,
   "id": "68380217",
   "metadata": {},
   "outputs": [
    {
     "name": "stdout",
     "output_type": "stream",
     "text": [
      "enter wordmalayalam\n",
      "Palindrome\n"
     ]
    }
   ],
   "source": [
    "def Palindrome(word):\n",
    "    l=len(word)-1\n",
    "    k=0\n",
    "    for i in range(0,l):\n",
    "            \n",
    "            if word[i]!=word[l-i]:\n",
    "                k+=1\n",
    "    if k==0:\n",
    "        print(\"Palindrome\")\n",
    "    else:\n",
    "        print(\"Not palindrome\")\n",
    "word=input(\"enter word\")\n",
    "Palindrome(word)\n",
    "        \n",
    "                \n",
    "                \n",
    "            \n",
    "            \n",
    "        "
   ]
  },
  {
   "cell_type": "code",
   "execution_count": null,
   "id": "91067bad",
   "metadata": {},
   "outputs": [],
   "source": []
  },
  {
   "cell_type": "code",
   "execution_count": null,
   "id": "3fe4c1df",
   "metadata": {},
   "outputs": [],
   "source": []
  }
 ],
 "metadata": {
  "kernelspec": {
   "display_name": "Python 3 (ipykernel)",
   "language": "python",
   "name": "python3"
  },
  "language_info": {
   "codemirror_mode": {
    "name": "ipython",
    "version": 3
   },
   "file_extension": ".py",
   "mimetype": "text/x-python",
   "name": "python",
   "nbconvert_exporter": "python",
   "pygments_lexer": "ipython3",
   "version": "3.9.12"
  }
 },
 "nbformat": 4,
 "nbformat_minor": 5
}
