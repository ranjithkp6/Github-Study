{
 "cells": [
  {
   "cell_type": "code",
   "execution_count": 2,
   "id": "71d28c47",
   "metadata": {},
   "outputs": [
    {
     "name": "stdout",
     "output_type": "stream",
     "text": [
      "[7, 2, 3, 4, 5, 6, 1]\n"
     ]
    }
   ],
   "source": [
    "def swaplist(List):\n",
    "    size=len(List)\n",
    "    temp=List[0]\n",
    "    List[0]=List[size-1]\n",
    "    List[size-1]=temp\n",
    "    return(List)\n",
    "List=[1,2,3,4,5,6,7]\n",
    "print(swaplist(List))"
   ]
  },
  {
   "cell_type": "code",
   "execution_count": null,
   "id": "6d237482",
   "metadata": {},
   "outputs": [],
   "source": []
  }
 ],
 "metadata": {
  "kernelspec": {
   "display_name": "Python 3 (ipykernel)",
   "language": "python",
   "name": "python3"
  },
  "language_info": {
   "codemirror_mode": {
    "name": "ipython",
    "version": 3
   },
   "file_extension": ".py",
   "mimetype": "text/x-python",
   "name": "python",
   "nbconvert_exporter": "python",
   "pygments_lexer": "ipython3",
   "version": "3.9.12"
  }
 },
 "nbformat": 4,
 "nbformat_minor": 5
}
